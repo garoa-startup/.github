{
  "nbformat": 4,
  "nbformat_minor": 0,
  "metadata": {
    "colab": {
      "name": "recuperando-dados-TB.ipynb",
      "provenance": [],
      "collapsed_sections": [],
      "include_colab_link": true
    },
    "kernelspec": {
      "name": "python3",
      "display_name": "Python 3"
    },
    "language_info": {
      "name": "python"
    }
  },
  "cells": [
    {
      "cell_type": "markdown",
      "metadata": {
        "id": "view-in-github",
        "colab_type": "text"
      },
      "source": [
        "<a href=\"https://colab.research.google.com/github/garoa-startup/.github/blob/main/recuperando_dados_TB.ipynb\" target=\"_parent\"><img src=\"https://colab.research.google.com/assets/colab-badge.svg\" alt=\"Open In Colab\"/></a>"
      ]
    },
    {
      "cell_type": "code",
      "execution_count": null,
      "metadata": {
        "colab": {
          "base_uri": "https://localhost:8080/"
        },
        "id": "qMab-bikRapo",
        "outputId": "24d2aac0-3680-4545-ce9a-3295e052bd8f"
      },
      "outputs": [
        {
          "output_type": "stream",
          "name": "stdout",
          "text": [
            "Requirement already satisfied: tb-rest-client in /usr/local/lib/python3.7/dist-packages (1.3.2)\n",
            "Requirement already satisfied: urllib3>=1.23 in /usr/local/lib/python3.7/dist-packages (from tb-rest-client) (1.24.3)\n",
            "Requirement already satisfied: python-dateutil>=2.1 in /usr/local/lib/python3.7/dist-packages (from tb-rest-client) (2.8.2)\n",
            "Requirement already satisfied: certifi>=2017.4.17 in /usr/local/lib/python3.7/dist-packages (from tb-rest-client) (2021.10.8)\n",
            "Requirement already satisfied: six>=1.10 in /usr/local/lib/python3.7/dist-packages (from tb-rest-client) (1.15.0)\n"
          ]
        }
      ],
      "source": [
        "!pip install tb-rest-client"
      ]
    },
    {
      "cell_type": "code",
      "source": [
        "# ThingsBoard REST API URL\n",
        "url = \"http://demo.thingsboard.io/\"\n",
        "\n",
        "# Default Tenant Administrator credentials\n",
        "username = \"projetogaroaufpa@gmail.com\"\n",
        "password = \"projetogaroa123\"\n",
        "deviceID = \"91a24bc0-dc36-11ec-8e95-c904ddca5a8a\""
      ],
      "metadata": {
        "id": "6uwtelesRf5O"
      },
      "execution_count": null,
      "outputs": []
    },
    {
      "cell_type": "code",
      "source": [
        "#conversão de data para UNIX timestamp\n",
        "import datetime\n",
        "\n",
        "def converte(data_string):\n",
        "  data = datetime.datetime.strptime(data_string, \"%d/%m/%Y\")\n",
        "  timestamp = int(datetime.datetime.timestamp(data)*1000)\n",
        "  return timestamp\n",
        " \n",
        "inicioTempo = converte(\"26/03/2022\")\n",
        "print(inicioTempo)\n",
        "fimTempo = converte(\"27/03/2022\")\n",
        "print(fimTempo)"
      ],
      "metadata": {
        "colab": {
          "base_uri": "https://localhost:8080/"
        },
        "id": "fnb2fvsfNFMb",
        "outputId": "760ae513-b1bf-4d9f-b0c4-1e4951c16f1f"
      },
      "execution_count": null,
      "outputs": [
        {
          "output_type": "stream",
          "name": "stdout",
          "text": [
            "1648252800000\n",
            "1648339200000\n"
          ]
        }
      ]
    },
    {
      "cell_type": "code",
      "source": [
        "import tb_rest_client.rest_client_ce as tb\n",
        "import pandas as pd\n",
        "\n",
        "cli = tb.RestClientCE(base_url=url)\n",
        "\n",
        "cli.login(username=username, password=password)\n",
        "\n",
        "#Mostra atributos de um dispositivo\n",
        "atributos_lista = cli.get_attributes('DEVICE', deviceID, keys='latitude,longitude,altitude,stationCode')\n",
        "atributosDF = pd.DataFrame(atributos_lista)\n",
        "display(atributosDF)"
      ],
      "metadata": {
        "id": "M2XnObrCRpXp"
      },
      "execution_count": null,
      "outputs": []
    },
    {
      "cell_type": "code",
      "source": [
        "#Mostra séries temporais\n",
        "series = cli.get_timeseries('DEVICE',deviceID,\n",
        "                            keys='umidade,temperatura',limit=10000\n",
        "                            agg=\"AVG\",period=60*60, #média de hora em hora\n",
        "                            start_ts=inicioTempo,end_ts=fimTempo)\n",
        "print(series)\n",
        "series_df = pd.DataFrame(series['temp_max'])\n",
        "display(series_df)"
      ],
      "metadata": {
        "id": "7vwcFMdxT8vM"
      },
      "execution_count": null,
      "outputs": []
    }
  ]
}
